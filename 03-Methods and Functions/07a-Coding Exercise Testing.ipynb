{
 "cells": [
  {
   "cell_type": "code",
   "execution_count": 12,
   "metadata": {},
   "outputs": [
    {
     "data": {
      "text/plain": [
       "'TeStInG'"
      ]
     },
     "execution_count": 12,
     "metadata": {},
     "output_type": "execute_result"
    }
   ],
   "source": [
    "def myfunc(args):\n",
    "    skyline = ''\n",
    "    index = 0\n",
    "    for letter in args:\n",
    "        if index % 2 == 0:\n",
    "            skyline = skyline + letter.upper()\n",
    "        else:\n",
    "            skyline = skyline + letter.lower()\n",
    "        index += 1\n",
    "    return skyline\n",
    "\n",
    "myfunc('Testing')"
   ]
  },
  {
   "cell_type": "code",
   "execution_count": null,
   "metadata": {},
   "outputs": [],
   "source": [
    "def myfunc(*args):\n",
    "    skyline = ''\n",
    "    for i in range(0,len(args)):\n",
    "        if args[i] % 2 == 0:\n",
    "            skyline = skyline + args[i].upper()\n",
    "        else:\n",
    "            skyline = skyline + args[i].lower()\n",
    "    return skyline\n",
    "\n",
    "\n",
    "myfunc('Testing')"
   ]
  }
 ],
 "metadata": {
  "kernelspec": {
   "display_name": "Python 3",
   "language": "python",
   "name": "python3"
  },
  "language_info": {
   "codemirror_mode": {
    "name": "ipython",
    "version": 3
   },
   "file_extension": ".py",
   "mimetype": "text/x-python",
   "name": "python",
   "nbconvert_exporter": "python",
   "pygments_lexer": "ipython3",
   "version": "3.10.9"
  },
  "orig_nbformat": 4,
  "vscode": {
   "interpreter": {
    "hash": "b0fa6594d8f4cbf19f97940f81e996739fb7646882a419484c72d19e05852a7e"
   }
  }
 },
 "nbformat": 4,
 "nbformat_minor": 2
}
